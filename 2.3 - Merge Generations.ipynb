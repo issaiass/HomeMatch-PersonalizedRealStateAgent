{
 "cells": [
  {
   "cell_type": "markdown",
   "id": "0dd3302e-5735-4358-8bdd-408bb08f8296",
   "metadata": {},
   "source": [
    "# Merge generations to documents list"
   ]
  },
  {
   "cell_type": "markdown",
   "id": "17b7d5e6-5232-4549-90cf-d1ed88b8f9a5",
   "metadata": {},
   "source": [
    "Here is no need to do other things, just "
   ]
  },
  {
   "cell_type": "code",
   "execution_count": 1,
   "id": "0a957f73-fb5b-4291-910d-13a61e502082",
   "metadata": {},
   "outputs": [],
   "source": [
    "import pandas as pd\n",
    "import glob"
   ]
  },
  {
   "cell_type": "code",
   "execution_count": 2,
   "id": "aaef82f5-5287-4d25-b3d7-436434d8a408",
   "metadata": {},
   "outputs": [],
   "source": [
    "neighborhood = pd.read_excel('description/neighborhood_descriptions.xlsx', sheet_name='HomeMatch')"
   ]
  },
  {
   "cell_type": "code",
   "execution_count": 4,
   "id": "a62fcfde-99d9-4624-ad20-9f002279e7f3",
   "metadata": {},
   "outputs": [],
   "source": [
    "document_list = glob.glob('documents/*')"
   ]
  },
  {
   "cell_type": "code",
   "execution_count": 5,
   "id": "89a996a4-cd0a-4339-98c9-6da3414d1755",
   "metadata": {},
   "outputs": [],
   "source": [
    "for path in document_list:\n",
    "    doc = pd.read_excel(path)\n",
    "    doc = doc.merge(neighborhood, on='neighborhood', how='left')\n",
    "    doc.to_excel(path, index=False)"
   ]
  },
  {
   "cell_type": "code",
   "execution_count": 6,
   "id": "69fc53e4-f362-420a-9f87-bea99aa92923",
   "metadata": {},
   "outputs": [],
   "source": [
    "df = pd.concat([pd.read_excel(doc) for doc in document_list]).reset_index(drop=True)\n",
    "columns = df.select_dtypes(include=object).columns\n",
    "df[columns] = df[columns].astype(\"string\")\n",
    "df.to_csv('documents.csv', header=True, index=False, encoding='utf-8')"
   ]
  },
  {
   "cell_type": "code",
   "execution_count": null,
   "id": "5e1f9a26-628a-4ba0-a74a-4a3bb4798729",
   "metadata": {},
   "outputs": [],
   "source": []
  }
 ],
 "metadata": {
  "kernelspec": {
   "display_name": "Python 3 (ipykernel)",
   "language": "python",
   "name": "python3"
  },
  "language_info": {
   "codemirror_mode": {
    "name": "ipython",
    "version": 3
   },
   "file_extension": ".py",
   "mimetype": "text/x-python",
   "name": "python",
   "nbconvert_exporter": "python",
   "pygments_lexer": "ipython3",
   "version": "3.9.19"
  }
 },
 "nbformat": 4,
 "nbformat_minor": 5
}
