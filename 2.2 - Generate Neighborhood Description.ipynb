{
 "cells": [
  {
   "cell_type": "markdown",
   "id": "e7d2aff3-2c82-44ed-83e5-e9ccef406aac",
   "metadata": {},
   "source": [
    "# Neighborhood Description Generation\n",
    "\n",
    "Because is a requirement we did it with Langchain and gpt3.5, we generate some descriptions of the site programatically and used async generation to speed it."
   ]
  },
  {
   "cell_type": "code",
   "execution_count": null,
   "id": "24692b9a-9ee8-49d4-8514-3001e6b16cb6",
   "metadata": {
    "collapsed": true,
    "jupyter": {
     "outputs_hidden": true
    },
    "scrolled": true
   },
   "outputs": [],
   "source": [
    "!pip install -U langchain-openai python-dotenv"
   ]
  },
  {
   "cell_type": "code",
   "execution_count": 1,
   "id": "5a3de4ae-ddcf-482d-9cda-8aec6432c935",
   "metadata": {},
   "outputs": [],
   "source": [
    "from langchain.schema import AIMessage, HumanMessage, SystemMessage\n",
    "from langchain_openai import ChatOpenAI\n",
    "from langchain.prompts import PromptTemplate\n",
    "from dotenv import load_dotenv,find_dotenv\n",
    "import pandas as pd\n",
    "import numpy as np\n",
    "import asyncio\n",
    "import glob\n",
    "import os"
   ]
  },
  {
   "cell_type": "markdown",
   "id": "40924b26-f004-42fd-83f9-60a25640bb2c",
   "metadata": {},
   "source": [
    "Let's test first if we can load the documents and display some unique values of the neighborhoods to generate"
   ]
  },
  {
   "cell_type": "code",
   "execution_count": 2,
   "id": "3a85cdca-c9a4-465e-9259-e44a9432084d",
   "metadata": {},
   "outputs": [],
   "source": [
    "df = pd.concat([pd.read_excel(doc) for doc in glob.glob('documents/*')])"
   ]
  },
  {
   "cell_type": "code",
   "execution_count": 3,
   "id": "eba6d011-cddb-4df0-904c-f785876e015c",
   "metadata": {},
   "outputs": [],
   "source": [
    "neighborhoods = df.reset_index(drop=True).neighborhood.unique().tolist()"
   ]
  },
  {
   "cell_type": "code",
   "execution_count": 4,
   "id": "19b291f9-5382-4553-9476-73291b9d2349",
   "metadata": {},
   "outputs": [
    {
     "data": {
      "text/plain": [
       "['Guarumal', 'El Bosque', 'Betania']"
      ]
     },
     "execution_count": 4,
     "metadata": {},
     "output_type": "execute_result"
    }
   ],
   "source": [
    "np.random.choice(neighborhoods, 3).tolist()"
   ]
  },
  {
   "cell_type": "markdown",
   "id": "4934969e-9c38-46b4-a9aa-556c2faea960",
   "metadata": {},
   "source": [
    "Now let's play with the GPT and try to make a promp format that we can reuse"
   ]
  },
  {
   "cell_type": "code",
   "execution_count": 5,
   "id": "95298ce2-5be1-46f7-8ee5-7b809d350765",
   "metadata": {},
   "outputs": [],
   "source": [
    "load_dotenv(find_dotenv())\n",
    "kwargs = dict(model='gpt-3.5-turbo', temperature=0.7, max_tokens=300)\n",
    "chat_llm = ChatOpenAI(**kwargs)"
   ]
  },
  {
   "cell_type": "code",
   "execution_count": 6,
   "id": "14d2d017-2e7b-4529-a28d-f0472e6f9ca5",
   "metadata": {},
   "outputs": [],
   "source": [
    "template = \"\"\"Describe como es {neighborhood} en Panamá como vecindad para vivir, resume y lista con nombres de sitios \\\n",
    "los más prominente para fiestas, hospitales cercanos, accesos a autopista, parques, supermercados, centros deportivos y \\\n",
    "gimnasio, no mas de 200 palabras.\"\"\"\n",
    "prompt = PromptTemplate(input_variables=['neighborhood'], template=template)"
   ]
  },
  {
   "cell_type": "code",
   "execution_count": 7,
   "id": "1c3fc92f-2c07-447a-bc6d-edaa69c6bcdc",
   "metadata": {},
   "outputs": [
    {
     "data": {
      "text/plain": [
       "'Describe como es San Carlos en Panamá como vecindad para vivir, resume y lista con nombres de sitios los más prominente para fiestas, hospitales cercanos, accesos a autopista, parques, supermercados, centros deportivos y gimnasio, no mas de 200 palabras.'"
      ]
     },
     "execution_count": 7,
     "metadata": {},
     "output_type": "execute_result"
    }
   ],
   "source": [
    "prompt_format = prompt.format(neighborhood='San Carlos')\n",
    "prompt_format"
   ]
  },
  {
   "cell_type": "code",
   "execution_count": 8,
   "id": "b3276e6f-498b-40af-8b50-fd61babb20ea",
   "metadata": {},
   "outputs": [],
   "source": [
    "messages = [\n",
    "    SystemMessage(content=\"Eres un vendedor de bienes raices, tu trabajo es encantar con palabras y demostrar las bondades de los sitios\\\n",
    "    no solo como experiencia de vida, sino un lugar para establecerse.\"),\n",
    "    HumanMessage(content=prompt.format(neighborhood=neighborhoods[2]))\n",
    "]"
   ]
  },
  {
   "cell_type": "markdown",
   "id": "207c9118-88be-44c3-b6da-60c4984c2333",
   "metadata": {},
   "source": [
    "Test our async generation, if you try to implement it using invoke your async routine will be blocked that's why we use agenerate"
   ]
  },
  {
   "cell_type": "code",
   "execution_count": 11,
   "id": "3a6080d2-62fe-4e86-95cc-fe2ce4b2300c",
   "metadata": {},
   "outputs": [
    {
     "name": "stdout",
     "output_type": "stream",
     "text": [
      "=== Query ===\n",
      "Eres un vendedor de bienes raices, tu trabajo es encantar con palabras y demostrar las bondades de los sitios    no solo como experiencia de vida, sino un lugar para establecerse. Describe como es Bella Vista en Panamá como vecindad para vivir, resume y lista con nombres de sitios los más prominente para fiestas, hospitales cercanos, accesos a autopista, parques, supermercados, centros deportivos y gimnasio, no mas de 200 palabras.\n",
      "=== Chat Response ===\n",
      "Bella Vista en Panamá es una vecindad vibrante y emocionante para vivir, ideal para aquellos que buscan comodidad y conveniencia. Con una ubicación céntrica y una amplia gama de servicios cercanos, es el lugar perfecto para establecerse.\n",
      "\n",
      "Para aquellos que disfrutan de la vida nocturna, Bella Vista ofrece una variedad de opciones para fiestas, como bares y discotecas como El Sótano, Mojitos sin Mojitos y La Rana Dorada. Los hospitales cercanos incluyen el Hospital Nacional y el Hospital Santo Tomás, garantizando atención médica de calidad.\n",
      "\n",
      "Con fácil acceso a la autopista Corredor Sur, los residentes pueden desplazarse rápidamente por la ciudad. Además, hay varios parques como el Parque Urracá, supermercados como Riba Smith y centros deportivos como el Gimnasio Power Club, que ofrecen opciones para mantenerse activo y saludable.\n",
      "\n",
      "En resumen, Bella Vista en Panamá es una vecindad dinámica que combina la comodidad con la diversión, convirtiéndola en un lugar ideal para vivir.\n"
     ]
    }
   ],
   "source": [
    "print(\"=== Query ===\")\n",
    "print(' '.join([msg.content for msg in messages]))\n",
    "print(\"=== Chat Response ===\")\n",
    "#response = chat_llm.invoke(messages)\n",
    "response = await chat_llm.agenerate([messages])\n",
    "print(response.generations[0][0].text)"
   ]
  },
  {
   "cell_type": "markdown",
   "id": "63f64dfc-7783-4d8f-aa10-bd266220250e",
   "metadata": {},
   "source": [
    "Let's now test an async generation routine to understand the behaviour"
   ]
  },
  {
   "cell_type": "code",
   "execution_count": 12,
   "id": "7afc44e9-2ea5-451d-a658-56e378592d07",
   "metadata": {},
   "outputs": [],
   "source": [
    "async def execute_coroutine(n):\n",
    "    print(f'Multiprocessing Part {n:02}')\n",
    "    await asyncio.sleep(np.random.randint(10)) # here the llm response\n",
    "    print(f'Finished Part {n:02}')\n",
    "    return np.random.randint(10)"
   ]
  },
  {
   "cell_type": "code",
   "execution_count": 13,
   "id": "88a2038b-e16f-4e5e-aa0d-4e6ef8f936e9",
   "metadata": {},
   "outputs": [
    {
     "data": {
      "text/plain": [
       "array([ 6, 10, 11, 19, 22, 34, 44, 46, 64, 65, 67, 72, 73, 75, 78, 86, 91,\n",
       "       94, 99])"
      ]
     },
     "execution_count": 13,
     "metadata": {},
     "output_type": "execute_result"
    }
   ],
   "source": [
    "batch = np.unique(np.random.randint(0, 100, size=(20,)))\n",
    "batch"
   ]
  },
  {
   "cell_type": "code",
   "execution_count": 15,
   "id": "457d1951-4425-4801-89d7-28a8d00add0d",
   "metadata": {},
   "outputs": [
    {
     "name": "stdout",
     "output_type": "stream",
     "text": [
      "Multiprocessing Part 06\n",
      "Multiprocessing Part 10\n",
      "Multiprocessing Part 11\n",
      "Multiprocessing Part 19\n",
      "Multiprocessing Part 22\n",
      "Finished Part 19\n",
      "Finished Part 10\n",
      "Finished Part 22\n",
      "Finished Part 06\n",
      "Finished Part 11\n",
      "Multiprocessing Part 34\n",
      "Multiprocessing Part 44\n",
      "Multiprocessing Part 46\n",
      "Multiprocessing Part 64\n",
      "Multiprocessing Part 65\n",
      "Finished Part 46\n",
      "Finished Part 64\n",
      "Finished Part 44\n",
      "Finished Part 34\n",
      "Finished Part 65\n",
      "Multiprocessing Part 67\n",
      "Multiprocessing Part 72\n",
      "Multiprocessing Part 73\n",
      "Multiprocessing Part 75\n",
      "Multiprocessing Part 78\n",
      "Finished Part 72\n",
      "Finished Part 67\n",
      "Finished Part 75\n",
      "Finished Part 73\n",
      "Finished Part 78\n",
      "Multiprocessing Part 86\n",
      "Multiprocessing Part 91\n",
      "Multiprocessing Part 94\n",
      "Multiprocessing Part 99\n",
      "Finished Part 91\n",
      "Finished Part 86\n",
      "Finished Part 94\n",
      "Finished Part 99\n"
     ]
    }
   ],
   "source": [
    "BATCH_SIZE=5\n",
    "results = list()\n",
    "for mini_batch in range(0, len(batch), BATCH_SIZE):\n",
    "    start = mini_batch\n",
    "    end   = start + BATCH_SIZE\n",
    "    values = batch[start:end]\n",
    "    coroutines = [asyncio.create_task(execute_coroutine(i)) for i in values]\n",
    "    done, pending = await asyncio.wait(coroutines)\n",
    "    values = await asyncio.gather(*coroutines)\n",
    "    results.extend(values)"
   ]
  },
  {
   "cell_type": "code",
   "execution_count": 16,
   "id": "22b14251-5417-454d-9dde-c0e3c5333996",
   "metadata": {},
   "outputs": [
    {
     "data": {
      "text/plain": [
       "([1, 8, 2, 1, 6, 0, 5, 3, 9, 8, 1, 4, 5, 1, 2, 8, 0, 1, 0], 19, 19)"
      ]
     },
     "execution_count": 16,
     "metadata": {},
     "output_type": "execute_result"
    }
   ],
   "source": [
    "results, len(results), len(batch)"
   ]
  },
  {
   "cell_type": "code",
   "execution_count": 17,
   "id": "b48d41a7-651e-4626-9001-e92c6c4dfe1f",
   "metadata": {},
   "outputs": [],
   "source": [
    "async def invoke_llm(neighborhood):\n",
    "    print(f'Multiprocessing Neighborhood {neighborhood}')\n",
    "    messages = [\n",
    "        SystemMessage(content=\"Eres un vendedor de bienes raices, tu trabajo es encantar con palabras y demostrar las bondades de los sitios\\\n",
    "        no solo como experiencia de vida, sino un lugar para establecerse.\"),\n",
    "        HumanMessage(content=prompt.format(neighborhood=neighborhood))\n",
    "    ]\n",
    "    response = await chat_llm.agenerate([messages])\n",
    "    print(f'{neighborhood} Multiprocessing Finished')\n",
    "    return response.generations[0][0].text"
   ]
  },
  {
   "cell_type": "code",
   "execution_count": 18,
   "id": "c1b97d0a-817a-42bc-8dfe-c1601012c30d",
   "metadata": {},
   "outputs": [
    {
     "name": "stdout",
     "output_type": "stream",
     "text": [
      "Multiprocessing Neighborhood San Francisco\n",
      "Multiprocessing Neighborhood Punta Chame\n",
      "San Francisco Multiprocessing Finished\n",
      "Punta Chame Multiprocessing Finished\n",
      "Multiprocessing Neighborhood Bella Vista\n",
      "Multiprocessing Neighborhood Santa María\n",
      "Bella Vista Multiprocessing Finished\n",
      "Santa María Multiprocessing Finished\n",
      "Multiprocessing Neighborhood Avenida Balboa\n",
      "Multiprocessing Neighborhood Costa Del Este\n",
      "Costa Del Este Multiprocessing Finished\n",
      "Avenida Balboa Multiprocessing Finished\n",
      "Multiprocessing Neighborhood Parque Lefevre\n",
      "Multiprocessing Neighborhood Punta Paitilla\n",
      "Parque Lefevre Multiprocessing Finished\n",
      "Punta Paitilla Multiprocessing Finished\n"
     ]
    }
   ],
   "source": [
    "BATCH_SIZE=2\n",
    "results = list()\n",
    "for mini_batch in range(0, len(neighborhoods[:7]), BATCH_SIZE):\n",
    "    start = mini_batch\n",
    "    end   = start + BATCH_SIZE\n",
    "    neighborhoods_mini_batch = neighborhoods[start:end] \n",
    "    coroutines = [asyncio.create_task(invoke_llm(neighborhood)) for neighborhood in neighborhoods_mini_batch]\n",
    "    values = await asyncio.gather(*coroutines)\n",
    "    results.extend(values)"
   ]
  },
  {
   "cell_type": "code",
   "execution_count": 22,
   "id": "b2b38c0b-1ad7-4049-9021-cd5b37425a6c",
   "metadata": {},
   "outputs": [
    {
     "data": {
      "text/html": [
       "<div>\n",
       "<style scoped>\n",
       "    .dataframe tbody tr th:only-of-type {\n",
       "        vertical-align: middle;\n",
       "    }\n",
       "\n",
       "    .dataframe tbody tr th {\n",
       "        vertical-align: top;\n",
       "    }\n",
       "\n",
       "    .dataframe thead th {\n",
       "        text-align: right;\n",
       "    }\n",
       "</style>\n",
       "<table border=\"1\" class=\"dataframe\">\n",
       "  <thead>\n",
       "    <tr style=\"text-align: right;\">\n",
       "      <th></th>\n",
       "      <th>neibhorhood</th>\n",
       "      <th>neighborhood_description</th>\n",
       "    </tr>\n",
       "  </thead>\n",
       "  <tbody>\n",
       "    <tr>\n",
       "      <th>0</th>\n",
       "      <td>San Francisco</td>\n",
       "      <td>San Francisco en Panamá es el lugar ideal para...</td>\n",
       "    </tr>\n",
       "    <tr>\n",
       "      <th>1</th>\n",
       "      <td>Punta Chame</td>\n",
       "      <td>Punta Chame en Panamá es un destino paradisíac...</td>\n",
       "    </tr>\n",
       "    <tr>\n",
       "      <th>2</th>\n",
       "      <td>Bella Vista</td>\n",
       "      <td>Bella Vista en Panamá es una vecindad vibrante...</td>\n",
       "    </tr>\n",
       "    <tr>\n",
       "      <th>3</th>\n",
       "      <td>Santa María</td>\n",
       "      <td>Santa María en Panamá es una vecindad exclusiv...</td>\n",
       "    </tr>\n",
       "    <tr>\n",
       "      <th>4</th>\n",
       "      <td>Avenida Balboa</td>\n",
       "      <td>¡Bienvenido a Avenida Balboa, el lugar ideal p...</td>\n",
       "    </tr>\n",
       "    <tr>\n",
       "      <th>5</th>\n",
       "      <td>Costa Del Este</td>\n",
       "      <td>Costa Del Este en Panamá es una vecindad exclu...</td>\n",
       "    </tr>\n",
       "    <tr>\n",
       "      <th>6</th>\n",
       "      <td>Parque Lefevre</td>\n",
       "      <td>Parque Lefevre en Panamá es un vecindario vibr...</td>\n",
       "    </tr>\n",
       "    <tr>\n",
       "      <th>7</th>\n",
       "      <td>Punta Paitilla</td>\n",
       "      <td>Punta Paitilla en Panamá es una vecindad exclu...</td>\n",
       "    </tr>\n",
       "  </tbody>\n",
       "</table>\n",
       "</div>"
      ],
      "text/plain": [
       "      neibhorhood                           neighborhood_description\n",
       "0   San Francisco  San Francisco en Panamá es el lugar ideal para...\n",
       "1     Punta Chame  Punta Chame en Panamá es un destino paradisíac...\n",
       "2     Bella Vista  Bella Vista en Panamá es una vecindad vibrante...\n",
       "3     Santa María  Santa María en Panamá es una vecindad exclusiv...\n",
       "4  Avenida Balboa  ¡Bienvenido a Avenida Balboa, el lugar ideal p...\n",
       "5  Costa Del Este  Costa Del Este en Panamá es una vecindad exclu...\n",
       "6  Parque Lefevre  Parque Lefevre en Panamá es un vecindario vibr...\n",
       "7  Punta Paitilla  Punta Paitilla en Panamá es una vecindad exclu..."
      ]
     },
     "execution_count": 22,
     "metadata": {},
     "output_type": "execute_result"
    }
   ],
   "source": [
    "pd.DataFrame(dict(neibhorhood=neighborhoods[:8], neighborhood_description=results))"
   ]
  },
  {
   "cell_type": "markdown",
   "id": "184a9a64-3d90-4840-84cc-0ac787d6566a",
   "metadata": {},
   "source": [
    "Now lest's make a class to build everything in an ordered way an execute"
   ]
  },
  {
   "cell_type": "code",
   "execution_count": 23,
   "id": "db5bcded-48e7-4f50-97c0-8d039c8d6c36",
   "metadata": {},
   "outputs": [
    {
     "name": "stdout",
     "output_type": "stream",
     "text": [
      "Overwriting build_neighborhood_description.py\n"
     ]
    }
   ],
   "source": [
    "%%writefile build_neighborhood_description.py\n",
    "from langchain.schema import AIMessage, HumanMessage, SystemMessage\n",
    "from langchain_openai import ChatOpenAI\n",
    "from langchain.prompts import PromptTemplate\n",
    "from dotenv import load_dotenv,find_dotenv\n",
    "import logging\n",
    "import pandas as pd\n",
    "import numpy as np\n",
    "import argparse\n",
    "import asyncio\n",
    "import glob\n",
    "import sys\n",
    "import os\n",
    "\n",
    "logging.basicConfig()\n",
    "logger = logging.getLogger(__name__)\n",
    "#logger.addHandler(logging.StreamHandler(sys.stdout))\n",
    "load_dotenv(find_dotenv())\n",
    "\n",
    "class GPTDescriptor:\n",
    "    def __init__(self, documents_dir, input_format, model='gpt-3.5-turbo', temperature=0.7, max_tokens=300):\n",
    "        self.documents_dir = documents_dir\n",
    "        self.input_format  = input_format\n",
    "        kwargs = dict(model=model, temperature=temperature, max_tokens=max_tokens)\n",
    "        self.chat_llm = ChatOpenAI(**kwargs)\n",
    "        self.prompt = self.build_prompt(input_variables=['neighborhood'])\n",
    "\n",
    "    def list_files(self):\n",
    "        return glob.glob(f'{self.documents_dir}/*.{self.input_format}')\n",
    "\n",
    "    def read_documents(self, documents):\n",
    "        if self.input_format == 'xlsx':\n",
    "            return pd.concat([pd.read_excel(doc) for doc in documents])\n",
    "        if self.input_format == 'csv':\n",
    "            return pd.concat([pd.read_csv(doc, header=0) for doc in documents])        \n",
    "        if self.input_format == 'parquet':\n",
    "            return pd.concat([pd.read_parquet(doc) for doc in documents])\n",
    "\n",
    "    def build_prompt(self, input_variables):\n",
    "        template = \"\"\"Describe como es {neighborhood} en Panamá como vecindad para vivir, resume y lista con nombres de sitios\\\n",
    "        los más prominente para fiestas, hospitales cercanos, accesos a autopista, parques, supermercados, centros deportivos y\\\n",
    "        gimnasio, no mas de 200 palabras.\"\"\"        \n",
    "        prompt = PromptTemplate(input_variables=input_variables, template=template)\n",
    "        return prompt\n",
    "\n",
    "    def build_message(self, neighborhood):\n",
    "        messages = [\n",
    "            SystemMessage(content=\"Eres un vendedor de bienes raices, tu trabajo es encantar con palabras y demostrar las bondades de los sitios\\\n",
    "            no solo como experiencia de vida, sino un lugar para establecerse.\"),\n",
    "            HumanMessage(content=self.prompt.format(neighborhood=neighborhood))\n",
    "        ]\n",
    "        return messages\n",
    "\n",
    "    async def invoke_llm(self, neighborhood):\n",
    "        logging.info(f'Muliprocessing {neighborhood} started')\n",
    "        messages = self.build_message(neighborhood=neighborhood)\n",
    "        response = await self.chat_llm.agenerate([messages])\n",
    "        logging.info(f'{neighborhood} Multiprocessing Finished')\n",
    "        return response.generations[0][0].text\n",
    "\n",
    "    def compile_and_save(self, neighborhood_dict, path, output_format='csv'):\n",
    "        if output_format=='xlsx':\n",
    "            pd.DataFrame(neighborhood_dict).to_excel(path, index=False, sheet_name='HomeMatch')\n",
    "        if output_format=='csv':\n",
    "            pd.DataFrame(neighborhood_dict).to_csv(path, header=True, index=False)\n",
    "        if output_format=='parquet':\n",
    "            pd.DataFrame(neighborhood_dict, axis=1).to_parquet(path, index=False)\n",
    "\n",
    "import time \n",
    "\n",
    "async def main(args):\n",
    "    documents_dir, output_folder = args.documents_dir, args.output_folder\n",
    "    input_format, output_format, batch_size = args.input_format, args.output_format, args.batch_size\n",
    "    model, temperature, max_tokens = args.model, args.temperature, args.max_tokens\n",
    "    gd = GPTDescriptor(documents_dir=documents_dir, input_format=input_format, model=model, temperature=temperature, max_tokens=max_tokens)\n",
    "    documents_list = gd.list_files()\n",
    "    df = gd.read_documents(documents_list)\n",
    "    neighborhoods = df.neighborhood.unique().tolist()\n",
    "    results = list()\n",
    "    for start in range(0, len(neighborhoods), batch_size):\n",
    "        end = start + batch_size\n",
    "        neighborhoods_mini_batch = neighborhoods[start:end] \n",
    "        tasks = [gd.invoke_llm(neighborhood) for neighborhood in neighborhoods_mini_batch]\n",
    "        values = await asyncio.gather(*tasks)\n",
    "        results.extend(values)\n",
    "    neighborhood_dict = dict(neighborhood=neighborhoods, neighborhood_description=results)\n",
    "    if not os.path.exists(output_folder):\n",
    "        os.mkdir(output_folder)\n",
    "    path = os.path.join(output_folder, f'neighborhood_descriptions.{output_format}')\n",
    "    gd.compile_and_save(neighborhood_dict=neighborhood_dict, path=path, output_format=output_format)\n",
    "\n",
    "\n",
    "if __name__ == \"__main__\" :\n",
    "    parser = argparse.ArgumentParser(description='builds a dataframe of the webpages selected')\n",
    "    parser.add_argument('-d', '--documents-dir', type=str, default='documents')\n",
    "    parser.add_argument('-o', '--output-folder', type=str, default='description')\n",
    "    parser.add_argument('-if', '--input-format', type=str, default='csv')\n",
    "    parser.add_argument('-of', '--output-format', type=str, default='csv')    \n",
    "    parser.add_argument('-b', '--batch-size', type=int, default=5)\n",
    "    parser.add_argument('-m', '--model', type=str, default='gpt-3.5-turbo')\n",
    "    parser.add_argument('-t', '--temperature', type=float, default=0.7)\n",
    "    parser.add_argument('-k', '--max-tokens', type=int, default=200) \n",
    "\n",
    "    args = parser.parse_args()\n",
    "    loop = asyncio.get_event_loop()\n",
    "    loop.run_until_complete(main(args))"
   ]
  },
  {
   "cell_type": "code",
   "execution_count": null,
   "id": "9fcfc35d-5d2d-4c03-bdf5-0f8de970f88c",
   "metadata": {},
   "outputs": [],
   "source": [
    "!python build_neighborhood_description.py -d documents -o description -if xlsx -of xlsx -b 5"
   ]
  }
 ],
 "metadata": {
  "kernelspec": {
   "display_name": "Python 3 (ipykernel)",
   "language": "python",
   "name": "python3"
  },
  "language_info": {
   "codemirror_mode": {
    "name": "ipython",
    "version": 3
   },
   "file_extension": ".py",
   "mimetype": "text/x-python",
   "name": "python",
   "nbconvert_exporter": "python",
   "pygments_lexer": "ipython3",
   "version": "3.9.19"
  }
 },
 "nbformat": 4,
 "nbformat_minor": 5
}
