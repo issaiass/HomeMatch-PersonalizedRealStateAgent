{
 "cells": [
  {
   "cell_type": "markdown",
   "id": "37f13945-e11d-4105-b556-5cfe83edb633",
   "metadata": {},
   "source": [
    "# Creating the VectorDatabase\n",
    "\n",
    "Here we only create the vector database to use later with langchain"
   ]
  },
  {
   "cell_type": "code",
   "execution_count": 1,
   "id": "de13decc-d04a-45a7-8f76-f82b05422569",
   "metadata": {},
   "outputs": [],
   "source": [
    "from langchain_community.document_loaders import CSVLoader\n",
    "from langchain.text_splitter import RecursiveCharacterTextSplitter\n",
    "from langchain_openai import OpenAIEmbeddings\n",
    "from langchain.vectorstores import Chroma\n",
    "from dotenv import load_dotenv, find_dotenv"
   ]
  },
  {
   "cell_type": "markdown",
   "id": "03a4e780-9986-4758-adb4-a8829ea52adb",
   "metadata": {},
   "source": [
    "Vector Database Setup: Initialize and configure ChromaDB or a similar vector database to store real estate listings."
   ]
  },
  {
   "cell_type": "code",
   "execution_count": 2,
   "id": "13054c75-532d-40b1-bb9b-ba9ac962274d",
   "metadata": {},
   "outputs": [
    {
     "data": {
      "text/plain": [
       "[Document(page_content='links: https://img10.naventcdn.com/avisos/20/00/60/64/59/75/720x532/322923269.jpg\\ndescription: Proyecto de apartamentos , Panamá · Apartamentos en San Francisco - PH Aurora\\napartment_description: Planifícate y Vive en ph Aurora, ubicado en el lugar mas \"trendy\" de la Ciudad de Panamá: San Francisco; cerca de restaurantes, malls, galerías de arte, bancos, supermercados, tiendas de mascotas y mucho más. Mejora tu estilo de vida y disfruta vivir en un lugar moderno y céntrico. Ph Aurora es un proyecto que cuenta con 3 niveles de área social y apartamentos con excelente distribución. No esperes más y contáctanos, te asesoramos para que cumplas este gran sueño de \"amanecer en tu nuevo hogar\". Para tours virtuales, plantas y disponibilidad, visita phaurora. Co m\\nsqm: 126\\nroom: 2\\nbathroom: 0\\nparking: 0\\nneighborhood: San Francisco\\nprice: 255000\\nneighborhood_description: San Francisco en Panamá es una vecindad vibrante y cosmopolita, perfecta para aquellos que buscan una vida emocionante y conveniente. Con una amplia variedad de opciones de entretenimiento, restaurantes internacionales y una animada vida nocturna, San Francisco ofrece experiencias únicas para todos los gustos.\\n\\nEntre los lugares más prominentes para fiestas se encuentran el exclusivo club nocturno Bling y la discoteca People. Los residentes tienen acceso cercano a hospitales de renombre como el Hospital Punta Pacífica y el Hospital Nacional. La vecindad cuenta con fácil acceso a la autopista Corredor Sur, lo que facilita el desplazamiento hacia otras partes de la ciudad.\\n\\nPara disfrutar del aire libre, los residentes pueden visitar el Parque Omar, un extenso parque con áreas verdes y actividades deportivas. Los supermercados Riba', metadata={'source': 'documents.csv', 'row': 0}),\n",
       " Document(page_content='links: https://img10.naventcdn.com/avisos/20/00/63/06/32/48/720x532/1448313948.jpg\\ndescription: Proyecto de playa , Chame · En Venta Playa Caracol - Punta Chame\\napartment_description: La mejor y más completa comunidad de playa a tan sólo 1 hora y media de la ciudad, playa caracol en Punta Chame. Conoce todo lo que tenemos para ofrecer: -Aires del Mar. -Ventanas del Mar. -Olas del Mar. -The Tides. -Brisas del Mar. -Surfside. amenidades. -Amplias piscinas en cada complejo. -Gazebos para bbq. -Parque infantil. -Vento beach club con restaurante, piscina, bar, música y más. -Canchas de pádel, basket y tennis. -Tienda de conveniencia. -Academia de surf y deportes acuáticos. -Pronto: Surfside club and hotel con bares, restaurantes, sport lounge, gimnasio y más. Reserva tu propiedad de playa con sólo $500. Escríbanos por WhatsApp al: Ver datosy agenda tu visita ya!\\nsqm: 5\\nroom: 2\\nbathroom: 66\\nparking: 0\\nneighborhood: Punta Chame\\nprice: 175000\\nneighborhood_description: Punta Chame en Panamá es el lugar perfecto para vivir si buscas un ambiente relajado y tranquilo junto al mar. Con hermosas playas de arena blanca y aguas cristalinas, este vecindario ofrece una experiencia de vida única. \\n\\nPara los amantes de la diversión, Punta Chame cuenta con varios lugares prominentes para fiestas, como el Chame Beach Club y el Chame Surf Club. Los residentes también tienen acceso a hospitales cercanos como el Hospital Punta Chame y el Hospital Santa Fe.\\n\\nEn cuanto a accesos, la autopista Panamericana se encuentra a pocos minutos de distancia, facilitando el transporte a otras zonas de interés. Los residentes pueden disfrutar de hermosos parques como el Parque Natural Punta Chame y contar con supermercados como Super 99 y Riba Smith para sus compras diarias.\\n\\nPara', metadata={'source': 'documents.csv', 'row': 1})]"
      ]
     },
     "execution_count": 2,
     "metadata": {},
     "output_type": "execute_result"
    }
   ],
   "source": [
    "loader = CSVLoader('documents.csv', encoding='utf-8')\n",
    "docs = loader.load()\n",
    "docs[:2]"
   ]
  },
  {
   "cell_type": "markdown",
   "id": "7da885dd-9470-4cc9-a6a0-b0b7258c4d51",
   "metadata": {},
   "source": [
    "Generating and Storing Embeddings: Convert the LLM-generated listings into suitable embeddings that capture the semantic content of each listing, and store these embeddings in the vector database."
   ]
  },
  {
   "cell_type": "code",
   "execution_count": 3,
   "id": "6450ec3b-344c-45fd-ae00-b2a4bc01f397",
   "metadata": {},
   "outputs": [],
   "source": [
    "text_splitter = RecursiveCharacterTextSplitter(chunk_size=1000, chunk_overlap=0)\n",
    "docs_splits = text_splitter.split_documents(docs)"
   ]
  },
  {
   "cell_type": "code",
   "execution_count": 4,
   "id": "cf7a9b5f-c266-4346-a48a-3523828336cf",
   "metadata": {},
   "outputs": [
    {
     "data": {
      "text/plain": [
       "<langchain_community.vectorstores.chroma.Chroma at 0x1de95ac9e80>"
      ]
     },
     "execution_count": 4,
     "metadata": {},
     "output_type": "execute_result"
    }
   ],
   "source": [
    "load_dotenv(find_dotenv())\n",
    "embedding = OpenAIEmbeddings()\n",
    "Chroma.from_documents(docs, embedding=embedding, persist_directory=\"./chroma_db\") "
   ]
  }
 ],
 "metadata": {
  "kernelspec": {
   "display_name": "Python 3 (ipykernel)",
   "language": "python",
   "name": "python3"
  },
  "language_info": {
   "codemirror_mode": {
    "name": "ipython",
    "version": 3
   },
   "file_extension": ".py",
   "mimetype": "text/x-python",
   "name": "python",
   "nbconvert_exporter": "python",
   "pygments_lexer": "ipython3",
   "version": "3.9.19"
  }
 },
 "nbformat": 4,
 "nbformat_minor": 5
}
